{
  "nbformat": 4,
  "nbformat_minor": 0,
  "metadata": {
    "colab": {
      "provenance": [],
      "authorship_tag": "ABX9TyMkZtKSrqEn+Syh6NhUbHAr",
      "include_colab_link": true
    },
    "kernelspec": {
      "name": "python3",
      "display_name": "Python 3"
    },
    "language_info": {
      "name": "python"
    }
  },
  "cells": [
    {
      "cell_type": "markdown",
      "metadata": {
        "id": "view-in-github",
        "colab_type": "text"
      },
      "source": [
        "<a href=\"https://colab.research.google.com/github/DeepakJakhar9782/project/blob/main/Aiproject.ipynb\" target=\"_parent\"><img src=\"https://colab.research.google.com/assets/colab-badge.svg\" alt=\"Open In Colab\"/></a>"
      ]
    },
    {
      "cell_type": "code",
      "source": [
        "import numpy as np\n",
        "import pandas as pd\n",
        "from pgmpy.models import BayesianModel\n",
        "from pgmpy.factors.discrete import TabularCPD\n",
        "from pgmpy.inference import VariableElimination\n",
        "\n",
        "# Step 1: Define the Bayesian Network structure\n",
        "# Nodes:\n",
        "# D: Disease (Disease A or Disease B)\n",
        "# S1: Symptom 1 (Cough)\n",
        "# S2: Symptom 2 (Fever)\n",
        "# S3: Symptom 3 (Fatigue)\n",
        "\n",
        "# Define the structure of the model\n",
        "model = BayesianModel([('D', 'S1'), ('D', 'S2'), ('D', 'S3')])\n",
        "\n",
        "# Step 2: Define the Conditional Probability Distributions (CPDs)\n",
        "# P(Disease)\n",
        "cpd_disease = TabularCPD(variable='D', variable_card=2, values=[[0.9], [0.1]])\n",
        "\n",
        "# P(S1 | D)\n",
        "cpd_s1 = TabularCPD(variable='S1', variable_card=2,\n",
        "                    values=[[0.8, 0.3], [0.2, 0.7]],\n",
        "                    evidence=['D'], evidence_card=[2])\n",
        "\n",
        "# P(S2 | D)\n",
        "cpd_s2 = TabularCPD(variable='S2', variable_card=2,\n",
        "                    values=[[0.7, 0.4], [0.3, 0.6]],\n",
        "                    evidence=['D'], evidence_card=[2])\n",
        "\n",
        "# P(S3 | D)\n",
        "cpd_s3 = TabularCPD(variable='S3', variable_card=2,\n",
        "                    values=[[0.9, 0.2], [0.1, 0.8]],\n",
        "                    evidence=['D'], evidence_card=[2])\n",
        "\n",
        "# Step 3: Add CPDs to the model\n",
        "model.add_cpds(cpd_disease, cpd_s1, cpd_s2, cpd_s3)\n",
        "\n",
        "# Step 4: Validate the model\n",
        "assert model.check_model()\n",
        "\n",
        "# Step 5: Perform exact inference\n",
        "inference = VariableElimination(model)\n",
        "\n",
        "# Example Query\n",
        "# We want to find out the probability of Disease given certain symptoms\n",
        "# For instance: What is P(Disease | Cough, Fever)?\n",
        "\n",
        "# Setting evidence\n",
        "evidence = {'S1': 1, 'S2': 1}  # Cough and Fever observed\n",
        "query_result = inference.query(variables=['D'], evidence=evidence)\n",
        "\n",
        "# Step 6: Print the results\n",
        "print(\"Query Result: \")\n",
        "print(query_result)\n",
        "\n",
        "# Optional: Further analysis\n",
        "print(\"\\nProbability of Disease A and Disease B given symptoms:\")\n",
        "for disease, prob in zip(['Disease A', 'Disease B'], query_result.values):\n",
        "    print(f\"P({disease}) = {prob:.4f}\")\n"
      ],
      "metadata": {
        "colab": {
          "base_uri": "https://localhost:8080/"
        },
        "id": "0McjbujFZV-r",
        "outputId": "40e1ad14-3d0d-4f73-c3dc-2419e97373b9"
      },
      "execution_count": 4,
      "outputs": [
        {
          "output_type": "stream",
          "name": "stderr",
          "text": [
            "WARNING:pgmpy:BayesianModel has been renamed to BayesianNetwork. Please use BayesianNetwork class, BayesianModel will be removed in future.\n",
            "WARNING:pgmpy:BayesianModel has been renamed to BayesianNetwork. Please use BayesianNetwork class, BayesianModel will be removed in future.\n",
            "WARNING:pgmpy:BayesianModel has been renamed to BayesianNetwork. Please use BayesianNetwork class, BayesianModel will be removed in future.\n"
          ]
        },
        {
          "output_type": "stream",
          "name": "stdout",
          "text": [
            "Query Result: \n",
            "+------+----------+\n",
            "| D    |   phi(D) |\n",
            "+======+==========+\n",
            "| D(0) |   0.5625 |\n",
            "+------+----------+\n",
            "| D(1) |   0.4375 |\n",
            "+------+----------+\n",
            "\n",
            "Probability of Disease A and Disease B given symptoms:\n",
            "P(Disease A) = 0.5625\n",
            "P(Disease B) = 0.4375\n"
          ]
        }
      ]
    }
  ]
}